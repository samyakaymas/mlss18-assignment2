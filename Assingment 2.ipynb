{
 "cells": [
  {
   "cell_type": "markdown",
   "metadata": {},
   "source": [
    "# ML Summer School - Assignment 2"
   ]
  },
  {
   "cell_type": "markdown",
   "metadata": {},
   "source": [
    "Welcome to Machine Learning Summer School (2018) - Assignment 2. In this, assignment you will be making a spam classifer. That is given a SMS, you have to build a model that classifies whether the message is a spam or ham (not spam). "
   ]
  },
  {
   "cell_type": "markdown",
   "metadata": {},
   "source": [
    "Go through this Notebook very carefully. There are links to resources given in between, it is expected you go through them."
   ]
  },
  {
   "cell_type": "markdown",
   "metadata": {},
   "source": [
    "The first step we will do is to import the machine learning libraries. We will be using NumPy, Matplotlib, Pandas, and scikit-learn in this assignment. We will also be using NLTK (a library widely used for text processing)."
   ]
  },
  {
   "cell_type": "markdown",
   "metadata": {},
   "source": [
    "# Importing libraries"
   ]
  },
  {
   "cell_type": "code",
   "execution_count": 128,
   "metadata": {},
   "outputs": [],
   "source": [
    "%matplotlib inline\n",
    "import numpy as np\n",
    "import matplotlib.pyplot as plt\n",
    "from nltk.corpus import stopwords\n",
    "import pandas as pd\n",
    "from sklearn.feature_extraction.text import CountVectorizer\n",
    "from sklearn.linear_model import LogisticRegression\n",
    "from sklearn.model_selection import train_test_split\n",
    "from sklearn.metrics import classification_report\n",
    "from sklearn.metrics import f1_score\n",
    "from sklearn.naive_bayes import MultinomialNB\n",
    "import warnings\n",
    "warnings.simplefilter(\"ignore\")"
   ]
  },
  {
   "cell_type": "markdown",
   "metadata": {},
   "source": [
    "# Loading data"
   ]
  },
  {
   "cell_type": "markdown",
   "metadata": {},
   "source": [
    "### TASK 1"
   ]
  },
  {
   "cell_type": "markdown",
   "metadata": {},
   "source": [
    "The first task you need to do is load the csv file as a Pandas DataFrame. First go ahead and open `sms-spam.csv` file in a text editor. Analyse the data - how many columns are there, how big the data is. Identify some patterns which may help the algorithm in classififcation.   \n",
    "\n",
    "Load the csv as a Pandas DataFrame. The Pandas DataFrame should be named `df` and must contain only two columns named `text` and `is spam`. The `text` column should contain the SMS and `is spam` column should contain `1` if the SMS is spam and `0` if the SMS is a ham.\n",
    "\n",
    "\n",
    "You will need to use Pandas' `read_csv` function. The csv file is in `latin1` encoding. You will need to care take of that. You may find `encoding`, `usecols` and `names` arguments of `read_csv` helpful.  \n",
    "To convert 'spam' and 'ham' to 1 and 0 respectively, you may find `DataFrame.apply` useful."
   ]
  },
  {
   "cell_type": "code",
   "execution_count": 129,
   "metadata": {},
   "outputs": [
    {
     "data": {
      "text/html": [
       "<div>\n",
       "<style scoped>\n",
       "    .dataframe tbody tr th:only-of-type {\n",
       "        vertical-align: middle;\n",
       "    }\n",
       "\n",
       "    .dataframe tbody tr th {\n",
       "        vertical-align: top;\n",
       "    }\n",
       "\n",
       "    .dataframe thead th {\n",
       "        text-align: right;\n",
       "    }\n",
       "</style>\n",
       "<table border=\"1\" class=\"dataframe\">\n",
       "  <thead>\n",
       "    <tr style=\"text-align: right;\">\n",
       "      <th></th>\n",
       "      <th>is spam</th>\n",
       "      <th>text</th>\n",
       "    </tr>\n",
       "  </thead>\n",
       "  <tbody>\n",
       "    <tr>\n",
       "      <th>1</th>\n",
       "      <td>0</td>\n",
       "      <td>Go until jurong point, crazy.. Available only ...</td>\n",
       "    </tr>\n",
       "    <tr>\n",
       "      <th>2</th>\n",
       "      <td>0</td>\n",
       "      <td>Ok lar... Joking wif u oni...</td>\n",
       "    </tr>\n",
       "    <tr>\n",
       "      <th>3</th>\n",
       "      <td>1</td>\n",
       "      <td>Free entry in 2 a wkly comp to win FA Cup fina...</td>\n",
       "    </tr>\n",
       "    <tr>\n",
       "      <th>4</th>\n",
       "      <td>0</td>\n",
       "      <td>U dun say so early hor... U c already then say...</td>\n",
       "    </tr>\n",
       "    <tr>\n",
       "      <th>5</th>\n",
       "      <td>0</td>\n",
       "      <td>Nah I don't think he goes to usf, he lives aro...</td>\n",
       "    </tr>\n",
       "  </tbody>\n",
       "</table>\n",
       "</div>"
      ],
      "text/plain": [
       "   is spam                                               text\n",
       "1        0  Go until jurong point, crazy.. Available only ...\n",
       "2        0                      Ok lar... Joking wif u oni...\n",
       "3        1  Free entry in 2 a wkly comp to win FA Cup fina...\n",
       "4        0  U dun say so early hor... U c already then say...\n",
       "5        0  Nah I don't think he goes to usf, he lives aro..."
      ]
     },
     "execution_count": 129,
     "metadata": {},
     "output_type": "execute_result"
    }
   ],
   "source": [
    "# YOUR CODE STARTS HERE\n",
    "\n",
    "df=pd.read_csv('sms-spam.csv',sep=',',usecols=[0,1],names=['is spam','text'],encoding=\"latin1\")\n",
    "df=df.drop(df.index[[0]])\n",
    "def classify(name):\n",
    "    if name==\"spam\":\n",
    "        return 1\n",
    "    else:\n",
    "        return 0\n",
    "df['is spam']=df['is spam'].apply(classify)\n",
    "# YOUR CODE ENDS HERE\n",
    "df.head()"
   ]
  },
  {
   "cell_type": "markdown",
   "metadata": {},
   "source": [
    "# Analysing data"
   ]
  },
  {
   "cell_type": "markdown",
   "metadata": {},
   "source": [
    "The second step in Machine Learning Pipeline is to analyse the data. Analysing the data helps in [Feature Engineering](https://medium.com/mindorks/what-is-feature-engineering-for-machine-learning-d8ba3158d97a).  \n",
    "\n",
    "The most important part of traditional Machine Learning is how well you represent the data. Tradional Machine Learning approaches can't work directly on raw data. You need to represent the data in a way that is easy for machines to work with.\n",
    "\n",
    "In this section, we will analyse the data and side by side engineer new features."
   ]
  },
  {
   "cell_type": "code",
   "execution_count": 130,
   "metadata": {},
   "outputs": [
    {
     "name": "stdout",
     "output_type": "stream",
     "text": [
      "<class 'pandas.core.frame.DataFrame'>\n",
      "Int64Index: 5572 entries, 1 to 5572\n",
      "Data columns (total 2 columns):\n",
      "is spam    5572 non-null int64\n",
      "text       5572 non-null object\n",
      "dtypes: int64(1), object(1)\n",
      "memory usage: 130.6+ KB\n"
     ]
    }
   ],
   "source": [
    "df.info()"
   ]
  },
  {
   "cell_type": "markdown",
   "metadata": {},
   "source": [
    "We see that we don't have any data misising. So, we don't need to [handle missing data](https://machinelearningmastery.com/handle-missing-data-python/)."
   ]
  },
  {
   "cell_type": "code",
   "execution_count": 131,
   "metadata": {},
   "outputs": [
    {
     "data": {
      "text/html": [
       "<div>\n",
       "<style scoped>\n",
       "    .dataframe tbody tr th:only-of-type {\n",
       "        vertical-align: middle;\n",
       "    }\n",
       "\n",
       "    .dataframe tbody tr th {\n",
       "        vertical-align: top;\n",
       "    }\n",
       "\n",
       "    .dataframe thead tr th {\n",
       "        text-align: left;\n",
       "    }\n",
       "\n",
       "    .dataframe thead tr:last-of-type th {\n",
       "        text-align: right;\n",
       "    }\n",
       "</style>\n",
       "<table border=\"1\" class=\"dataframe\">\n",
       "  <thead>\n",
       "    <tr>\n",
       "      <th></th>\n",
       "      <th colspan=\"4\" halign=\"left\">text</th>\n",
       "    </tr>\n",
       "    <tr>\n",
       "      <th></th>\n",
       "      <th>count</th>\n",
       "      <th>unique</th>\n",
       "      <th>top</th>\n",
       "      <th>freq</th>\n",
       "    </tr>\n",
       "    <tr>\n",
       "      <th>is spam</th>\n",
       "      <th></th>\n",
       "      <th></th>\n",
       "      <th></th>\n",
       "      <th></th>\n",
       "    </tr>\n",
       "  </thead>\n",
       "  <tbody>\n",
       "    <tr>\n",
       "      <th>0</th>\n",
       "      <td>4825</td>\n",
       "      <td>4516</td>\n",
       "      <td>Sorry, I'll call later</td>\n",
       "      <td>30</td>\n",
       "    </tr>\n",
       "    <tr>\n",
       "      <th>1</th>\n",
       "      <td>747</td>\n",
       "      <td>653</td>\n",
       "      <td>Please call our customer service representativ...</td>\n",
       "      <td>4</td>\n",
       "    </tr>\n",
       "  </tbody>\n",
       "</table>\n",
       "</div>"
      ],
      "text/plain": [
       "         text                                                               \n",
       "        count unique                                                top freq\n",
       "is spam                                                                     \n",
       "0        4825   4516                             Sorry, I'll call later   30\n",
       "1         747    653  Please call our customer service representativ...    4"
      ]
     },
     "execution_count": 131,
     "metadata": {},
     "output_type": "execute_result"
    }
   ],
   "source": [
    "df.groupby('is spam').describe()"
   ]
  },
  {
   "cell_type": "markdown",
   "metadata": {},
   "source": [
    "[`groupby`](https://www.datacamp.com/community/tutorials/pandas-split-apply-combine-groupby) is a powerful way to analyse (and manipulate the data).  \n",
    "Using the above command, we can see that 747 messages are spam, while 4825 messages are ham. We also observe that most of the message are unique."
   ]
  },
  {
   "cell_type": "markdown",
   "metadata": {},
   "source": [
    "### TASK 2"
   ]
  },
  {
   "cell_type": "markdown",
   "metadata": {},
   "source": [
    "Plot a pie chart showing the number of spam and ham messages in the dataset. Make sure you use you give it a title and use change the default colors (green or red maybe?)."
   ]
  },
  {
   "cell_type": "code",
   "execution_count": 132,
   "metadata": {},
   "outputs": [
    {
     "data": {
      "image/png": "[encoded data removed]",
      "text/plain": [
       "<matplotlib.figure.Figure at 0x7f28119d8320>"
      ]
     },
     "metadata": {},
     "output_type": "display_data"
    }
   ],
   "source": [
    "# YOUR CODE STARTS HERE\n",
    "hamcount=df.groupby('is spam').describe().iat[0,0]\n",
    "spamcount=df.groupby('is spam').describe().iat[1,0]\n",
    "plt.pie([hamcount,spamcount],labels=['HAM','SPAM'],colors=['red','blue'],autopct='%1.1f%%',shadow=True,startangle=140,explode=[0,0.1])\n",
    "plt.title(\"SPAM vs HAM\")\n",
    "plt.show()\n",
    "# YOUR CODE ENDS HERE"
   ]
  },
  {
   "cell_type": "markdown",
   "metadata": {},
   "source": [
    "# Adding features"
   ]
  },
  {
   "cell_type": "markdown",
   "metadata": {},
   "source": [
    "## Percentage digits"
   ]
  },
  {
   "cell_type": "markdown",
   "metadata": {},
   "source": [
    "If you have gone through the dataset, you would have observed that spam messages have a lot more digits in them as compared to ham messages. So, lets create a feature based on that."
   ]
  },
  {
   "cell_type": "code",
   "execution_count": 133,
   "metadata": {},
   "outputs": [
    {
     "data": {
      "text/html": [
       "<div>\n",
       "<style scoped>\n",
       "    .dataframe tbody tr th:only-of-type {\n",
       "        vertical-align: middle;\n",
       "    }\n",
       "\n",
       "    .dataframe tbody tr th {\n",
       "        vertical-align: top;\n",
       "    }\n",
       "\n",
       "    .dataframe thead th {\n",
       "        text-align: right;\n",
       "    }\n",
       "</style>\n",
       "<table border=\"1\" class=\"dataframe\">\n",
       "  <thead>\n",
       "    <tr style=\"text-align: right;\">\n",
       "      <th></th>\n",
       "      <th>is spam</th>\n",
       "      <th>text</th>\n",
       "      <th>percentage digits</th>\n",
       "    </tr>\n",
       "  </thead>\n",
       "  <tbody>\n",
       "    <tr>\n",
       "      <th>1</th>\n",
       "      <td>0</td>\n",
       "      <td>Go until jurong point, crazy.. Available only ...</td>\n",
       "      <td>0.000000</td>\n",
       "    </tr>\n",
       "    <tr>\n",
       "      <th>2</th>\n",
       "      <td>0</td>\n",
       "      <td>Ok lar... Joking wif u oni...</td>\n",
       "      <td>0.000000</td>\n",
       "    </tr>\n",
       "    <tr>\n",
       "      <th>3</th>\n",
       "      <td>1</td>\n",
       "      <td>Free entry in 2 a wkly comp to win FA Cup fina...</td>\n",
       "      <td>16.129032</td>\n",
       "    </tr>\n",
       "    <tr>\n",
       "      <th>4</th>\n",
       "      <td>0</td>\n",
       "      <td>U dun say so early hor... U c already then say...</td>\n",
       "      <td>0.000000</td>\n",
       "    </tr>\n",
       "    <tr>\n",
       "      <th>5</th>\n",
       "      <td>0</td>\n",
       "      <td>Nah I don't think he goes to usf, he lives aro...</td>\n",
       "      <td>0.000000</td>\n",
       "    </tr>\n",
       "  </tbody>\n",
       "</table>\n",
       "</div>"
      ],
      "text/plain": [
       "   is spam                                               text  \\\n",
       "1        0  Go until jurong point, crazy.. Available only ...   \n",
       "2        0                      Ok lar... Joking wif u oni...   \n",
       "3        1  Free entry in 2 a wkly comp to win FA Cup fina...   \n",
       "4        0  U dun say so early hor... U c already then say...   \n",
       "5        0  Nah I don't think he goes to usf, he lives aro...   \n",
       "\n",
       "   percentage digits  \n",
       "1           0.000000  \n",
       "2           0.000000  \n",
       "3          16.129032  \n",
       "4           0.000000  \n",
       "5           0.000000  "
      ]
     },
     "execution_count": 133,
     "metadata": {},
     "output_type": "execute_result"
    }
   ],
   "source": [
    "def percentage_digits(nnn):\n",
    "    counter = 0\n",
    "    for i in nnn:\n",
    "        if i.isdigit():\n",
    "            counter += 1\n",
    "    return (counter / len(nnn)) * 100\n",
    "\n",
    "df['percentage digits'] = df['text'].apply(percentage_digits)\n",
    "df.head()"
   ]
  },
  {
   "cell_type": "markdown",
   "metadata": {},
   "source": [
    "Let's plot to check if our observation was correct."
   ]
  },
  {
   "cell_type": "code",
   "execution_count": 134,
   "metadata": {},
   "outputs": [
    {
     "data": {
      "image/png": "[encoded data removed]",
      "text/plain": [
       "<matplotlib.figure.Figure at 0x7f280897bcc0>"
      ]
     },
     "metadata": {},
     "output_type": "display_data"
    }
   ],
   "source": [
    "plt.hist(df[df['is spam'] == 0]['percentage digits'], bins=10, range=(0, 20), rwidth=0.8)\n",
    "plt.xlabel('Percentage digits')\n",
    "plt.ylabel('Number of messages')\n",
    "plt.title('Distribution of percentage digits of non-spam messages.')\n",
    "plt.show()"
   ]
  },
  {
   "cell_type": "code",
   "execution_count": 135,
   "metadata": {},
   "outputs": [
    {
     "data": {
      "image/png": "[encoded data removed]",
      "text/plain": [
       "<matplotlib.figure.Figure at 0x7f2811aedc50>"
      ]
     },
     "metadata": {},
     "output_type": "display_data"
    }
   ],
   "source": [
    "plt.hist(df[df['is spam'] == 1]['percentage digits'], bins=10, range=(0, 20), rwidth=0.8)\n",
    "plt.xlabel('Percentage digits')\n",
    "plt.ylabel('Number of messages')\n",
    "plt.title('Distribution of percentage digits of spam messages.')\n",
    "plt.show()"
   ]
  },
  {
   "cell_type": "markdown",
   "metadata": {},
   "source": [
    "Indeed it was correct. Therefore, we can use this feature for our machine learning model. Let us create a bunch of more features like this."
   ]
  },
  {
   "cell_type": "markdown",
   "metadata": {},
   "source": [
    "## Percentage question mark"
   ]
  },
  {
   "cell_type": "code",
   "execution_count": 136,
   "metadata": {},
   "outputs": [
    {
     "data": {
      "text/html": [
       "<div>\n",
       "<style scoped>\n",
       "    .dataframe tbody tr th:only-of-type {\n",
       "        vertical-align: middle;\n",
       "    }\n",
       "\n",
       "    .dataframe tbody tr th {\n",
       "        vertical-align: top;\n",
       "    }\n",
       "\n",
       "    .dataframe thead th {\n",
       "        text-align: right;\n",
       "    }\n",
       "</style>\n",
       "<table border=\"1\" class=\"dataframe\">\n",
       "  <thead>\n",
       "    <tr style=\"text-align: right;\">\n",
       "      <th></th>\n",
       "      <th>is spam</th>\n",
       "      <th>text</th>\n",
       "      <th>percentage digits</th>\n",
       "      <th>percentage question mark</th>\n",
       "    </tr>\n",
       "  </thead>\n",
       "  <tbody>\n",
       "    <tr>\n",
       "      <th>1</th>\n",
       "      <td>0</td>\n",
       "      <td>Go until jurong point, crazy.. Available only ...</td>\n",
       "      <td>0.000000</td>\n",
       "      <td>0.0</td>\n",
       "    </tr>\n",
       "    <tr>\n",
       "      <th>2</th>\n",
       "      <td>0</td>\n",
       "      <td>Ok lar... Joking wif u oni...</td>\n",
       "      <td>0.000000</td>\n",
       "      <td>0.0</td>\n",
       "    </tr>\n",
       "    <tr>\n",
       "      <th>3</th>\n",
       "      <td>1</td>\n",
       "      <td>Free entry in 2 a wkly comp to win FA Cup fina...</td>\n",
       "      <td>16.129032</td>\n",
       "      <td>0.0</td>\n",
       "    </tr>\n",
       "    <tr>\n",
       "      <th>4</th>\n",
       "      <td>0</td>\n",
       "      <td>U dun say so early hor... U c already then say...</td>\n",
       "      <td>0.000000</td>\n",
       "      <td>0.0</td>\n",
       "    </tr>\n",
       "    <tr>\n",
       "      <th>5</th>\n",
       "      <td>0</td>\n",
       "      <td>Nah I don't think he goes to usf, he lives aro...</td>\n",
       "      <td>0.000000</td>\n",
       "      <td>0.0</td>\n",
       "    </tr>\n",
       "  </tbody>\n",
       "</table>\n",
       "</div>"
      ],
      "text/plain": [
       "   is spam                                               text  \\\n",
       "1        0  Go until jurong point, crazy.. Available only ...   \n",
       "2        0                      Ok lar... Joking wif u oni...   \n",
       "3        1  Free entry in 2 a wkly comp to win FA Cup fina...   \n",
       "4        0  U dun say so early hor... U c already then say...   \n",
       "5        0  Nah I don't think he goes to usf, he lives aro...   \n",
       "\n",
       "   percentage digits  percentage question mark  \n",
       "1           0.000000                       0.0  \n",
       "2           0.000000                       0.0  \n",
       "3          16.129032                       0.0  \n",
       "4           0.000000                       0.0  \n",
       "5           0.000000                       0.0  "
      ]
     },
     "execution_count": 136,
     "metadata": {},
     "output_type": "execute_result"
    }
   ],
   "source": [
    "def percentage_question_mark(nnn):\n",
    "    counter = 0\n",
    "    for i in nnn:\n",
    "        if i == '?':\n",
    "            counter += 1\n",
    "    return (counter / len(nnn)) * 100\n",
    "\n",
    "df['percentage question mark'] = df['text'].apply(percentage_question_mark)\n",
    "df.head()"
   ]
  },
  {
   "cell_type": "code",
   "execution_count": 137,
   "metadata": {},
   "outputs": [
    {
     "data": {
      "image/png": "[encoded data removed]",
      "text/plain": [
       "<matplotlib.figure.Figure at 0x7f2811aedc88>"
      ]
     },
     "metadata": {},
     "output_type": "display_data"
    }
   ],
   "source": [
    "plt.hist(df[df['is spam'] == 1]['percentage question mark'], bins=10, range=(0, 4), rwidth=0.8)\n",
    "plt.xlabel('Percentage question mark')\n",
    "plt.ylabel('Number of messages')\n",
    "plt.title('Distribution of percentage question mark of spam messages.')\n",
    "plt.show()"
   ]
  },
  {
   "cell_type": "code",
   "execution_count": 138,
   "metadata": {
    "scrolled": true
   },
   "outputs": [
    {
     "data": {
      "image/png": "[encoded data removed]",
      "text/plain": [
       "<matplotlib.figure.Figure at 0x7f2811afa6a0>"
      ]
     },
     "metadata": {},
     "output_type": "display_data"
    }
   ],
   "source": [
    "plt.hist(df[df['is spam'] == 0]['percentage question mark'], bins=10, range=(0, 4), rwidth=0.8)\n",
    "plt.xlabel('Percentage question mark')\n",
    "plt.ylabel('Number of messages')\n",
    "plt.title('Distribution of percentage question mark of non-spam messages.')\n",
    "plt.show()"
   ]
  },
  {
   "cell_type": "markdown",
   "metadata": {},
   "source": [
    "## Percentage exclamation mark"
   ]
  },
  {
   "cell_type": "code",
   "execution_count": 139,
   "metadata": {},
   "outputs": [
    {
     "data": {
      "text/html": [
       "<div>\n",
       "<style scoped>\n",
       "    .dataframe tbody tr th:only-of-type {\n",
       "        vertical-align: middle;\n",
       "    }\n",
       "\n",
       "    .dataframe tbody tr th {\n",
       "        vertical-align: top;\n",
       "    }\n",
       "\n",
       "    .dataframe thead th {\n",
       "        text-align: right;\n",
       "    }\n",
       "</style>\n",
       "<table border=\"1\" class=\"dataframe\">\n",
       "  <thead>\n",
       "    <tr style=\"text-align: right;\">\n",
       "      <th></th>\n",
       "      <th>is spam</th>\n",
       "      <th>text</th>\n",
       "      <th>percentage digits</th>\n",
       "      <th>percentage question mark</th>\n",
       "      <th>percentage exclamation mark</th>\n",
       "    </tr>\n",
       "  </thead>\n",
       "  <tbody>\n",
       "    <tr>\n",
       "      <th>1</th>\n",
       "      <td>0</td>\n",
       "      <td>Go until jurong point, crazy.. Available only ...</td>\n",
       "      <td>0.000000</td>\n",
       "      <td>0.0</td>\n",
       "      <td>0.0</td>\n",
       "    </tr>\n",
       "    <tr>\n",
       "      <th>2</th>\n",
       "      <td>0</td>\n",
       "      <td>Ok lar... Joking wif u oni...</td>\n",
       "      <td>0.000000</td>\n",
       "      <td>0.0</td>\n",
       "      <td>0.0</td>\n",
       "    </tr>\n",
       "    <tr>\n",
       "      <th>3</th>\n",
       "      <td>1</td>\n",
       "      <td>Free entry in 2 a wkly comp to win FA Cup fina...</td>\n",
       "      <td>16.129032</td>\n",
       "      <td>0.0</td>\n",
       "      <td>0.0</td>\n",
       "    </tr>\n",
       "    <tr>\n",
       "      <th>4</th>\n",
       "      <td>0</td>\n",
       "      <td>U dun say so early hor... U c already then say...</td>\n",
       "      <td>0.000000</td>\n",
       "      <td>0.0</td>\n",
       "      <td>0.0</td>\n",
       "    </tr>\n",
       "    <tr>\n",
       "      <th>5</th>\n",
       "      <td>0</td>\n",
       "      <td>Nah I don't think he goes to usf, he lives aro...</td>\n",
       "      <td>0.000000</td>\n",
       "      <td>0.0</td>\n",
       "      <td>0.0</td>\n",
       "    </tr>\n",
       "  </tbody>\n",
       "</table>\n",
       "</div>"
      ],
      "text/plain": [
       "   is spam                                               text  \\\n",
       "1        0  Go until jurong point, crazy.. Available only ...   \n",
       "2        0                      Ok lar... Joking wif u oni...   \n",
       "3        1  Free entry in 2 a wkly comp to win FA Cup fina...   \n",
       "4        0  U dun say so early hor... U c already then say...   \n",
       "5        0  Nah I don't think he goes to usf, he lives aro...   \n",
       "\n",
       "   percentage digits  percentage question mark  percentage exclamation mark  \n",
       "1           0.000000                       0.0                          0.0  \n",
       "2           0.000000                       0.0                          0.0  \n",
       "3          16.129032                       0.0                          0.0  \n",
       "4           0.000000                       0.0                          0.0  \n",
       "5           0.000000                       0.0                          0.0  "
      ]
     },
     "execution_count": 139,
     "metadata": {},
     "output_type": "execute_result"
    }
   ],
   "source": [
    "def percentage_exclamation_mark(nnn):\n",
    "    counter = 0\n",
    "    for i in nnn:\n",
    "        if i == '!':\n",
    "            counter += 1\n",
    "    return (counter / len(nnn)) * 100\n",
    "\n",
    "df['percentage exclamation mark'] = df['text'].apply(percentage_exclamation_mark)\n",
    "df.head()"
   ]
  },
  {
   "cell_type": "code",
   "execution_count": 140,
   "metadata": {
    "scrolled": true
   },
   "outputs": [
    {
     "data": {
      "image/png": "[encoded data removed]",
      "text/plain": [
       "<matplotlib.figure.Figure at 0x7f2811a663c8>"
      ]
     },
     "metadata": {},
     "output_type": "display_data"
    }
   ],
   "source": [
    "plt.hist(df[df['is spam'] == 1]['percentage exclamation mark'], bins=10, range=(0, 3), rwidth=0.8)\n",
    "plt.xlabel('Percentage exclamation mark')\n",
    "plt.ylabel('Number of messages')\n",
    "plt.title('Distribution of percentage exclamation mark of spam messages.')\n",
    "plt.show()"
   ]
  },
  {
   "cell_type": "code",
   "execution_count": 141,
   "metadata": {},
   "outputs": [
    {
     "data": {
      "image/png": "[encoded data removed]",
      "text/plain": [
       "<matplotlib.figure.Figure at 0x7f2808a5f550>"
      ]
     },
     "metadata": {},
     "output_type": "display_data"
    }
   ],
   "source": [
    "plt.hist(df[df['is spam'] == 0]['percentage exclamation mark'], bins=10, range=(0, 3), rwidth=0.8)\n",
    "plt.xlabel('Percentage exclamation mark')\n",
    "plt.ylabel('Number of messages')\n",
    "plt.title('Distribution of percentage exclamation mark of non-spam messages.')\n",
    "plt.show()"
   ]
  },
  {
   "cell_type": "markdown",
   "metadata": {},
   "source": [
    "## Percentage caps"
   ]
  },
  {
   "cell_type": "code",
   "execution_count": 142,
   "metadata": {},
   "outputs": [
    {
     "data": {
      "text/html": [
       "<div>\n",
       "<style scoped>\n",
       "    .dataframe tbody tr th:only-of-type {\n",
       "        vertical-align: middle;\n",
       "    }\n",
       "\n",
       "    .dataframe tbody tr th {\n",
       "        vertical-align: top;\n",
       "    }\n",
       "\n",
       "    .dataframe thead th {\n",
       "        text-align: right;\n",
       "    }\n",
       "</style>\n",
       "<table border=\"1\" class=\"dataframe\">\n",
       "  <thead>\n",
       "    <tr style=\"text-align: right;\">\n",
       "      <th></th>\n",
       "      <th>is spam</th>\n",
       "      <th>text</th>\n",
       "      <th>percentage digits</th>\n",
       "      <th>percentage question mark</th>\n",
       "      <th>percentage exclamation mark</th>\n",
       "      <th>percentage caps</th>\n",
       "    </tr>\n",
       "  </thead>\n",
       "  <tbody>\n",
       "    <tr>\n",
       "      <th>1</th>\n",
       "      <td>0</td>\n",
       "      <td>Go until jurong point, crazy.. Available only ...</td>\n",
       "      <td>0.000000</td>\n",
       "      <td>0.0</td>\n",
       "      <td>0.0</td>\n",
       "      <td>2.702703</td>\n",
       "    </tr>\n",
       "    <tr>\n",
       "      <th>2</th>\n",
       "      <td>0</td>\n",
       "      <td>Ok lar... Joking wif u oni...</td>\n",
       "      <td>0.000000</td>\n",
       "      <td>0.0</td>\n",
       "      <td>0.0</td>\n",
       "      <td>6.896552</td>\n",
       "    </tr>\n",
       "    <tr>\n",
       "      <th>3</th>\n",
       "      <td>1</td>\n",
       "      <td>Free entry in 2 a wkly comp to win FA Cup fina...</td>\n",
       "      <td>16.129032</td>\n",
       "      <td>0.0</td>\n",
       "      <td>0.0</td>\n",
       "      <td>6.451613</td>\n",
       "    </tr>\n",
       "    <tr>\n",
       "      <th>4</th>\n",
       "      <td>0</td>\n",
       "      <td>U dun say so early hor... U c already then say...</td>\n",
       "      <td>0.000000</td>\n",
       "      <td>0.0</td>\n",
       "      <td>0.0</td>\n",
       "      <td>4.081633</td>\n",
       "    </tr>\n",
       "    <tr>\n",
       "      <th>5</th>\n",
       "      <td>0</td>\n",
       "      <td>Nah I don't think he goes to usf, he lives aro...</td>\n",
       "      <td>0.000000</td>\n",
       "      <td>0.0</td>\n",
       "      <td>0.0</td>\n",
       "      <td>3.278689</td>\n",
       "    </tr>\n",
       "  </tbody>\n",
       "</table>\n",
       "</div>"
      ],
      "text/plain": [
       "   is spam                                               text  \\\n",
       "1        0  Go until jurong point, crazy.. Available only ...   \n",
       "2        0                      Ok lar... Joking wif u oni...   \n",
       "3        1  Free entry in 2 a wkly comp to win FA Cup fina...   \n",
       "4        0  U dun say so early hor... U c already then say...   \n",
       "5        0  Nah I don't think he goes to usf, he lives aro...   \n",
       "\n",
       "   percentage digits  percentage question mark  percentage exclamation mark  \\\n",
       "1           0.000000                       0.0                          0.0   \n",
       "2           0.000000                       0.0                          0.0   \n",
       "3          16.129032                       0.0                          0.0   \n",
       "4           0.000000                       0.0                          0.0   \n",
       "5           0.000000                       0.0                          0.0   \n",
       "\n",
       "   percentage caps  \n",
       "1         2.702703  \n",
       "2         6.896552  \n",
       "3         6.451613  \n",
       "4         4.081633  \n",
       "5         3.278689  "
      ]
     },
     "execution_count": 142,
     "metadata": {},
     "output_type": "execute_result"
    }
   ],
   "source": [
    "def percentage_caps(nnn):\n",
    "    counter = 0\n",
    "    for i in nnn:\n",
    "        if i.isupper():\n",
    "            counter += 1\n",
    "    return (counter / len(nnn)) * 100\n",
    "\n",
    "df['percentage caps'] = df['text'].apply(percentage_caps)\n",
    "df.head()"
   ]
  },
  {
   "cell_type": "code",
   "execution_count": 143,
   "metadata": {
    "scrolled": false
   },
   "outputs": [
    {
     "data": {
      "image/png": "[encoded data removed]",
      "text/plain": [
       "<matplotlib.figure.Figure at 0x7f28089d5dd8>"
      ]
     },
     "metadata": {},
     "output_type": "display_data"
    }
   ],
   "source": [
    "plt.hist(df[df['is spam'] == 1]['percentage caps'], bins=10, range=(0, 40), rwidth=0.8)\n",
    "plt.xlabel('Percentage caps')\n",
    "plt.ylabel('Number of messages')\n",
    "plt.title('Distribution of percentage caps of spam messages.')\n",
    "plt.show()"
   ]
  },
  {
   "cell_type": "code",
   "execution_count": 144,
   "metadata": {},
   "outputs": [
    {
     "data": {
      "image/png": "[encoded data removed]",
      "text/plain": [
       "<matplotlib.figure.Figure at 0x7f2808a5c4e0>"
      ]
     },
     "metadata": {},
     "output_type": "display_data"
    }
   ],
   "source": [
    "plt.hist(df[df['is spam'] == 0]['percentage caps'], bins=10, range=(0, 40), rwidth=0.8)\n",
    "plt.xlabel('Percentage caps')\n",
    "plt.ylabel('Number of messages')\n",
    "plt.title('Distribution of percentage caps of non-spam messages.')\n",
    "plt.show()"
   ]
  },
  {
   "cell_type": "markdown",
   "metadata": {},
   "source": [
    "## Length"
   ]
  },
  {
   "cell_type": "code",
   "execution_count": 145,
   "metadata": {},
   "outputs": [
    {
     "data": {
      "text/html": [
       "<div>\n",
       "<style scoped>\n",
       "    .dataframe tbody tr th:only-of-type {\n",
       "        vertical-align: middle;\n",
       "    }\n",
       "\n",
       "    .dataframe tbody tr th {\n",
       "        vertical-align: top;\n",
       "    }\n",
       "\n",
       "    .dataframe thead th {\n",
       "        text-align: right;\n",
       "    }\n",
       "</style>\n",
       "<table border=\"1\" class=\"dataframe\">\n",
       "  <thead>\n",
       "    <tr style=\"text-align: right;\">\n",
       "      <th></th>\n",
       "      <th>is spam</th>\n",
       "      <th>text</th>\n",
       "      <th>percentage digits</th>\n",
       "      <th>percentage question mark</th>\n",
       "      <th>percentage exclamation mark</th>\n",
       "      <th>percentage caps</th>\n",
       "      <th>length</th>\n",
       "    </tr>\n",
       "  </thead>\n",
       "  <tbody>\n",
       "    <tr>\n",
       "      <th>1</th>\n",
       "      <td>0</td>\n",
       "      <td>Go until jurong point, crazy.. Available only ...</td>\n",
       "      <td>0.000000</td>\n",
       "      <td>0.0</td>\n",
       "      <td>0.0</td>\n",
       "      <td>2.702703</td>\n",
       "      <td>111</td>\n",
       "    </tr>\n",
       "    <tr>\n",
       "      <th>2</th>\n",
       "      <td>0</td>\n",
       "      <td>Ok lar... Joking wif u oni...</td>\n",
       "      <td>0.000000</td>\n",
       "      <td>0.0</td>\n",
       "      <td>0.0</td>\n",
       "      <td>6.896552</td>\n",
       "      <td>29</td>\n",
       "    </tr>\n",
       "    <tr>\n",
       "      <th>3</th>\n",
       "      <td>1</td>\n",
       "      <td>Free entry in 2 a wkly comp to win FA Cup fina...</td>\n",
       "      <td>16.129032</td>\n",
       "      <td>0.0</td>\n",
       "      <td>0.0</td>\n",
       "      <td>6.451613</td>\n",
       "      <td>155</td>\n",
       "    </tr>\n",
       "    <tr>\n",
       "      <th>4</th>\n",
       "      <td>0</td>\n",
       "      <td>U dun say so early hor... U c already then say...</td>\n",
       "      <td>0.000000</td>\n",
       "      <td>0.0</td>\n",
       "      <td>0.0</td>\n",
       "      <td>4.081633</td>\n",
       "      <td>49</td>\n",
       "    </tr>\n",
       "    <tr>\n",
       "      <th>5</th>\n",
       "      <td>0</td>\n",
       "      <td>Nah I don't think he goes to usf, he lives aro...</td>\n",
       "      <td>0.000000</td>\n",
       "      <td>0.0</td>\n",
       "      <td>0.0</td>\n",
       "      <td>3.278689</td>\n",
       "      <td>61</td>\n",
       "    </tr>\n",
       "  </tbody>\n",
       "</table>\n",
       "</div>"
      ],
      "text/plain": [
       "   is spam                                               text  \\\n",
       "1        0  Go until jurong point, crazy.. Available only ...   \n",
       "2        0                      Ok lar... Joking wif u oni...   \n",
       "3        1  Free entry in 2 a wkly comp to win FA Cup fina...   \n",
       "4        0  U dun say so early hor... U c already then say...   \n",
       "5        0  Nah I don't think he goes to usf, he lives aro...   \n",
       "\n",
       "   percentage digits  percentage question mark  percentage exclamation mark  \\\n",
       "1           0.000000                       0.0                          0.0   \n",
       "2           0.000000                       0.0                          0.0   \n",
       "3          16.129032                       0.0                          0.0   \n",
       "4           0.000000                       0.0                          0.0   \n",
       "5           0.000000                       0.0                          0.0   \n",
       "\n",
       "   percentage caps  length  \n",
       "1         2.702703     111  \n",
       "2         6.896552      29  \n",
       "3         6.451613     155  \n",
       "4         4.081633      49  \n",
       "5         3.278689      61  "
      ]
     },
     "execution_count": 145,
     "metadata": {},
     "output_type": "execute_result"
    }
   ],
   "source": [
    "df['length'] = df['text'].apply(len)\n",
    "df.head()"
   ]
  },
  {
   "cell_type": "code",
   "execution_count": 146,
   "metadata": {},
   "outputs": [
    {
     "data": {
      "image/png": "[encoded data removed]",
      "text/plain": [
       "<matplotlib.figure.Figure at 0x7f2811cd8be0>"
      ]
     },
     "metadata": {},
     "output_type": "display_data"
    }
   ],
   "source": [
    "plt.hist(df[df['is spam'] == 1]['length'], bins=10, range=(0, 200), rwidth=0.8)\n",
    "plt.xlabel('Length of message')\n",
    "plt.ylabel('Number of messages')\n",
    "plt.title('Distribution of length of spam messages.')\n",
    "plt.show()\n"
   ]
  },
  {
   "cell_type": "code",
   "execution_count": 147,
   "metadata": {},
   "outputs": [
    {
     "data": {
      "image/png": "[encoded data removed]",
      "text/plain": [
       "<matplotlib.figure.Figure at 0x7f2811af1898>"
      ]
     },
     "metadata": {},
     "output_type": "display_data"
    }
   ],
   "source": [
    "plt.hist(df[df['is spam'] == 0]['length'], bins=10, range=(0, 200), rwidth=0.8)\n",
    "plt.xlabel('Length of message')\n",
    "plt.ylabel('Number of messages')\n",
    "plt.title('Distribution of length of non-spam messages.')\n",
    "plt.show()"
   ]
  },
  {
   "cell_type": "markdown",
   "metadata": {},
   "source": [
    "### TASK 3"
   ]
  },
  {
   "cell_type": "markdown",
   "metadata": {},
   "source": [
    "Your task is to analyse the data, either manually or by Pandas' functions such as `groupby` and `describe` and add atleast one feature. The features created should be supported by some statistic, or some plot. \n",
    "\n",
    "Treat this task very seriously. Students whose features are most creative (and effective) will be given a special mention."
   ]
  },
  {
   "cell_type": "code",
   "execution_count": 148,
   "metadata": {},
   "outputs": [],
   "source": [
    "# YOUR CODE STARTS HERE\n",
    "### \"...\" are mostly sent during a chat or sms conversation\n",
    "def countofunderstanding(nnn):\n",
    "    counter = 0\n",
    "    simul=0\n",
    "    for i in nnn:\n",
    "        if i=='.':\n",
    "            simul+=1\n",
    "        else:\n",
    "            simul=0\n",
    "        if simul>=2:\n",
    "            counter += 1\n",
    "            simul=0\n",
    "    return counter\n",
    "df['countofunderstanding']= df['text'].apply(countofunderstanding)\n",
    "\n",
    "# YOUR CODE ENDS HERE"
   ]
  },
  {
   "cell_type": "code",
   "execution_count": 149,
   "metadata": {},
   "outputs": [
    {
     "data": {
      "image/png": "[encoded data removed]",
      "text/plain": [
       "<matplotlib.figure.Figure at 0x7f28088e3240>"
      ]
     },
     "metadata": {},
     "output_type": "display_data"
    }
   ],
   "source": [
    "plt.hist(df[df['is spam'] == 1]['countofunderstanding'], bins=30, range=(0, 10), rwidth=0.8)\n",
    "plt.xlabel('Number of ...')\n",
    "plt.ylabel('Number of messages')\n",
    "plt.title('Distribution of No. of \"...\" in spam messages.')\n",
    "plt.show()"
   ]
  },
  {
   "cell_type": "code",
   "execution_count": 150,
   "metadata": {},
   "outputs": [
    {
     "data": {
      "image/png": "[encoded data removed]",
      "text/plain": [
       "<matplotlib.figure.Figure at 0x7f2808a0c6d8>"
      ]
     },
     "metadata": {},
     "output_type": "display_data"
    }
   ],
   "source": [
    "plt.hist(df[df['is spam'] == 0]['countofunderstanding'], bins=30, range=(0, 10), rwidth=0.8)\n",
    "plt.xlabel('Number of ...')\n",
    "plt.ylabel('Number of messages')\n",
    "plt.title('Distribution of No. of \"...\" in non-spam messages.')\n",
    "plt.show()"
   ]
  },
  {
   "cell_type": "code",
   "execution_count": 151,
   "metadata": {},
   "outputs": [],
   "source": [
    "def isalpha(word):\n",
    "    word = word.replace('.', '')\n",
    "    return word.isalpha()\n",
    "\n",
    "def clean_sms(text):\n",
    "    text = text.lower()\n",
    "    return (' '.join(filter(lambda x: isalpha(x) and x not in stopwords.words(\"english\"), text.split()))).replace('.', '').split()"
   ]
  },
  {
   "cell_type": "code",
   "execution_count": 153,
   "metadata": {},
   "outputs": [],
   "source": [
    "file=open('spam_keywords.txt','r')\n",
    "str=file.read()\n",
    "str=str.lower().split('\\n')\n",
    "def isspamkey(nnn):\n",
    "    count=0\n",
    "    for i in clean_sms(nnn):\n",
    "        if i in str:\n",
    "            count+=1\n",
    "    return count\n",
    "df['keyword']=df['text'].apply(isspamkey)"
   ]
  },
  {
   "cell_type": "code",
   "execution_count": 155,
   "metadata": {},
   "outputs": [
    {
     "data": {
      "image/png": "[encoded data removed]",
      "text/plain": [
       "<matplotlib.figure.Figure at 0x7f2808747278>"
      ]
     },
     "metadata": {},
     "output_type": "display_data"
    }
   ],
   "source": [
    "plt.hist(df[df['is spam'] == 1]['keyword'], bins=30, range=(0, 10), rwidth=0.8)\n",
    "plt.xlabel('Number of ...')\n",
    "plt.ylabel('Number of messages')\n",
    "plt.title('Distribution of No. of \"...\" in spam messages.')\n",
    "plt.show()"
   ]
  },
  {
   "cell_type": "code",
   "execution_count": 156,
   "metadata": {},
   "outputs": [
    {
     "data": {
      "image/png": "[encoded data removed]",
      "text/plain": [
       "<matplotlib.figure.Figure at 0x7f28087474a8>"
      ]
     },
     "metadata": {},
     "output_type": "display_data"
    }
   ],
   "source": [
    "plt.hist(df[df['is spam'] == 0]['keyword'], bins=30, range=(0, 10), rwidth=0.8)\n",
    "plt.xlabel('Number of ...')\n",
    "plt.ylabel('Number of messages')\n",
    "plt.title('Distribution of No. of \"...\" in non-spam messages.')\n",
    "plt.show()"
   ]
  },
  {
   "cell_type": "markdown",
   "metadata": {},
   "source": [
    "## Creating Features from the text"
   ]
  },
  {
   "cell_type": "markdown",
   "metadata": {},
   "source": [
    "Uptil now, we have created additional features from the text. But we have not represented the text itself.   \n",
    "\n",
    "Remember that machine learning algorithms such as Logistic Regression work by multiplying the feature values by some (learnable) weights. Clealy, we can't use text as it as feature. We need to convert into numbers, a form machine learning algorithm can deal with.     "
   ]
  },
  {
   "cell_type": "markdown",
   "metadata": {},
   "source": [
    "### Bag of Words"
   ]
  },
  {
   "cell_type": "markdown",
   "metadata": {},
   "source": [
    "    How do we convert them to some kind of numeric representation for machine learning? One common approach is called a Bag of Words. The Bag of Words model learns a vocabulary from all of the documents, then models each document by counting the number of times each word appears. For example, consider the following two sentences:\n",
    "\n",
    "    Sentence 1: \"The cat sat on the hat\"\n",
    "\n",
    "    Sentence 2: \"The dog ate the cat and the hat\"\n",
    "\n",
    "    From these two sentences, our vocabulary is as follows:\n",
    "\n",
    "    { the, cat, sat, on, hat, dog, ate, and }\n",
    "\n",
    "    To get our bags of words, we count the number of times each word occurs in each sentence. In Sentence 1, \"the\" appears twice, and \"cat\", \"sat\", \"on\", and \"hat\" each appear once, so the feature vector for Sentence 1 is:\n",
    "\n",
    "    { the, cat, sat, on, hat, dog, ate, and }\n",
    "\n",
    "    Sentence 1: { 2, 1, 1, 1, 1, 0, 0, 0 }\n",
    "\n",
    "    Similarly, the features for Sentence 2 are: { 3, 1, 0, 0, 1, 1, 1, 1}\n",
    "    \n",
    "More on Bag of Words, [here](https://www.kaggle.com/c/word2vec-nlp-tutorial#part-1-for-beginners-bag-of-words), [here](https://machinelearningmastery.com/gentle-introduction-bag-words-model/) and [here](http://scikit-learn.org/stable/modules/feature_extraction.html#text-feature-extraction).\n",
    "\n",
    "It is imperative that you understand Bag of Words before moving on.\n",
    "\n",
    "Bag of Words is not fact the only (and the best) way to represent text. It suffers from problems such as creating too many features, not being able to represent similarities between similar words, and not being able to take into account the sequence in which words appear.  \n",
    "After learning Deep Learning, you will come to know of other methods to represent text such as using Word vectors and LSTMs."
   ]
  },
  {
   "cell_type": "markdown",
   "metadata": {},
   "source": [
    "### Cleaning the text"
   ]
  },
  {
   "cell_type": "markdown",
   "metadata": {},
   "source": [
    "Now we clean the text by removing non-alphabetic words and [stopwords](http://text-analytics101.rxnlp.com/2014/10/all-about-stop-words-for-text-mining.html) from the text. Stop Words are words that most commonly appear in the language, for example, 'the', 'and', etc. They don't add useful information to the text so they can be removed."
   ]
  },
  {
   "cell_type": "code",
   "execution_count": 157,
   "metadata": {},
   "outputs": [],
   "source": [
    "def isalpha(word):\n",
    "    word = word.replace('.', '')\n",
    "    return word.isalpha()\n",
    "\n",
    "def clean_sms(text):\n",
    "    text = text.lower()\n",
    "    return (' '.join(filter(lambda x: isalpha(x) and x not in stopwords.words(\"english\"), text.split()))).replace('.', '').split()"
   ]
  },
  {
   "cell_type": "markdown",
   "metadata": {},
   "source": [
    "We will be using `CountVectorizer` to convert the SMSes to a matrix of token counts. You should try and fiddle with the arguments to `CountVectorizer`"
   ]
  },
  {
   "cell_type": "code",
   "execution_count": 158,
   "metadata": {},
   "outputs": [
    {
     "data": {
      "text/html": [
       "<div>\n",
       "<style scoped>\n",
       "    .dataframe tbody tr th:only-of-type {\n",
       "        vertical-align: middle;\n",
       "    }\n",
       "\n",
       "    .dataframe tbody tr th {\n",
       "        vertical-align: top;\n",
       "    }\n",
       "\n",
       "    .dataframe thead th {\n",
       "        text-align: right;\n",
       "    }\n",
       "</style>\n",
       "<table border=\"1\" class=\"dataframe\">\n",
       "  <thead>\n",
       "    <tr style=\"text-align: right;\">\n",
       "      <th></th>\n",
       "      <th>is spam</th>\n",
       "      <th>text</th>\n",
       "      <th>percentage digits</th>\n",
       "      <th>percentage question mark</th>\n",
       "      <th>percentage exclamation mark</th>\n",
       "      <th>percentage caps</th>\n",
       "      <th>length</th>\n",
       "      <th>countofunderstanding</th>\n",
       "      <th>keyword</th>\n",
       "      <th>abiola</th>\n",
       "      <th>...</th>\n",
       "      <th>yo</th>\n",
       "      <th>yoga</th>\n",
       "      <th>you</th>\n",
       "      <th>yours</th>\n",
       "      <th>yr</th>\n",
       "      <th>yrs</th>\n",
       "      <th>yun</th>\n",
       "      <th>yup</th>\n",
       "      <th>zed</th>\n",
       "      <th>ìï</th>\n",
       "    </tr>\n",
       "  </thead>\n",
       "  <tbody>\n",
       "    <tr>\n",
       "      <th>1</th>\n",
       "      <td>0</td>\n",
       "      <td>Go until jurong point, crazy.. Available only ...</td>\n",
       "      <td>0.0</td>\n",
       "      <td>0.0</td>\n",
       "      <td>0.0</td>\n",
       "      <td>2.702703</td>\n",
       "      <td>111</td>\n",
       "      <td>3</td>\n",
       "      <td>0</td>\n",
       "      <td>0</td>\n",
       "      <td>...</td>\n",
       "      <td>0</td>\n",
       "      <td>0</td>\n",
       "      <td>0</td>\n",
       "      <td>0</td>\n",
       "      <td>0</td>\n",
       "      <td>0</td>\n",
       "      <td>0</td>\n",
       "      <td>0</td>\n",
       "      <td>0</td>\n",
       "      <td>0</td>\n",
       "    </tr>\n",
       "    <tr>\n",
       "      <th>2</th>\n",
       "      <td>0</td>\n",
       "      <td>Ok lar... Joking wif u oni...</td>\n",
       "      <td>0.0</td>\n",
       "      <td>0.0</td>\n",
       "      <td>0.0</td>\n",
       "      <td>6.896552</td>\n",
       "      <td>29</td>\n",
       "      <td>2</td>\n",
       "      <td>0</td>\n",
       "      <td>0</td>\n",
       "      <td>...</td>\n",
       "      <td>0</td>\n",
       "      <td>0</td>\n",
       "      <td>0</td>\n",
       "      <td>0</td>\n",
       "      <td>0</td>\n",
       "      <td>0</td>\n",
       "      <td>0</td>\n",
       "      <td>0</td>\n",
       "      <td>0</td>\n",
       "      <td>0</td>\n",
       "    </tr>\n",
       "  </tbody>\n",
       "</table>\n",
       "<p>2 rows × 1461 columns</p>\n",
       "</div>"
      ],
      "text/plain": [
       "   is spam                                               text  \\\n",
       "1        0  Go until jurong point, crazy.. Available only ...   \n",
       "2        0                      Ok lar... Joking wif u oni...   \n",
       "\n",
       "   percentage digits  percentage question mark  percentage exclamation mark  \\\n",
       "1                0.0                       0.0                          0.0   \n",
       "2                0.0                       0.0                          0.0   \n",
       "\n",
       "   percentage caps  length  countofunderstanding  keyword  abiola ...  yo  \\\n",
       "1         2.702703     111                     3        0       0 ...   0   \n",
       "2         6.896552      29                     2        0       0 ...   0   \n",
       "\n",
       "   yoga  you  yours  yr  yrs  yun  yup  zed  ìï  \n",
       "1     0    0      0   0    0    0    0    0   0  \n",
       "2     0    0      0   0    0    0    0    0   0  \n",
       "\n",
       "[2 rows x 1461 columns]"
      ]
     },
     "execution_count": 158,
     "metadata": {},
     "output_type": "execute_result"
    }
   ],
   "source": [
    "cv = CountVectorizer(strip_accents='ascii', min_df=5, analyzer=clean_sms)\n",
    "df = pd.concat([df, pd.DataFrame(cv.fit_transform(df['text']).todense(), columns=cv.get_feature_names(), index=np.arange(1, cv.fit_transform(df['text']).todense().shape[0] + 1))], axis=1)\n",
    "df.head(2)"
   ]
  },
  {
   "cell_type": "markdown",
   "metadata": {},
   "source": [
    "This is how our final feature vector (plus the target vector) looks like."
   ]
  },
  {
   "cell_type": "code",
   "execution_count": 159,
   "metadata": {},
   "outputs": [
    {
     "data": {
      "text/html": [
       "<div>\n",
       "<style scoped>\n",
       "    .dataframe tbody tr th:only-of-type {\n",
       "        vertical-align: middle;\n",
       "    }\n",
       "\n",
       "    .dataframe tbody tr th {\n",
       "        vertical-align: top;\n",
       "    }\n",
       "\n",
       "    .dataframe thead th {\n",
       "        text-align: right;\n",
       "    }\n",
       "</style>\n",
       "<table border=\"1\" class=\"dataframe\">\n",
       "  <thead>\n",
       "    <tr style=\"text-align: right;\">\n",
       "      <th></th>\n",
       "      <th>percentage digits</th>\n",
       "      <th>percentage question mark</th>\n",
       "      <th>percentage exclamation mark</th>\n",
       "      <th>percentage caps</th>\n",
       "      <th>length</th>\n",
       "      <th>countofunderstanding</th>\n",
       "      <th>keyword</th>\n",
       "      <th>abiola</th>\n",
       "      <th>able</th>\n",
       "      <th>about</th>\n",
       "      <th>...</th>\n",
       "      <th>yo</th>\n",
       "      <th>yoga</th>\n",
       "      <th>you</th>\n",
       "      <th>yours</th>\n",
       "      <th>yr</th>\n",
       "      <th>yrs</th>\n",
       "      <th>yun</th>\n",
       "      <th>yup</th>\n",
       "      <th>zed</th>\n",
       "      <th>ìï</th>\n",
       "    </tr>\n",
       "    <tr>\n",
       "      <th>is spam</th>\n",
       "      <th></th>\n",
       "      <th></th>\n",
       "      <th></th>\n",
       "      <th></th>\n",
       "      <th></th>\n",
       "      <th></th>\n",
       "      <th></th>\n",
       "      <th></th>\n",
       "      <th></th>\n",
       "      <th></th>\n",
       "      <th></th>\n",
       "      <th></th>\n",
       "      <th></th>\n",
       "      <th></th>\n",
       "      <th></th>\n",
       "      <th></th>\n",
       "      <th></th>\n",
       "      <th></th>\n",
       "      <th></th>\n",
       "      <th></th>\n",
       "      <th></th>\n",
       "    </tr>\n",
       "  </thead>\n",
       "  <tbody>\n",
       "    <tr>\n",
       "      <th>0</th>\n",
       "      <td>0.420082</td>\n",
       "      <td>0.544954</td>\n",
       "      <td>0.233188</td>\n",
       "      <td>5.952566</td>\n",
       "      <td>71.023627</td>\n",
       "      <td>0.408912</td>\n",
       "      <td>0.060725</td>\n",
       "      <td>0.00228</td>\n",
       "      <td>0.005389</td>\n",
       "      <td>0.001036</td>\n",
       "      <td>...</td>\n",
       "      <td>0.005389</td>\n",
       "      <td>0.001244</td>\n",
       "      <td>0.017409</td>\n",
       "      <td>0.000622</td>\n",
       "      <td>0.000622</td>\n",
       "      <td>0.001036</td>\n",
       "      <td>0.001036</td>\n",
       "      <td>0.008497</td>\n",
       "      <td>0.000000</td>\n",
       "      <td>0.010777</td>\n",
       "    </tr>\n",
       "    <tr>\n",
       "      <th>1</th>\n",
       "      <td>11.579405</td>\n",
       "      <td>0.169521</td>\n",
       "      <td>0.524716</td>\n",
       "      <td>11.061228</td>\n",
       "      <td>138.866131</td>\n",
       "      <td>0.033467</td>\n",
       "      <td>0.935743</td>\n",
       "      <td>0.00000</td>\n",
       "      <td>0.000000</td>\n",
       "      <td>0.000000</td>\n",
       "      <td>...</td>\n",
       "      <td>0.001339</td>\n",
       "      <td>0.000000</td>\n",
       "      <td>0.010710</td>\n",
       "      <td>0.010710</td>\n",
       "      <td>0.014726</td>\n",
       "      <td>0.004016</td>\n",
       "      <td>0.000000</td>\n",
       "      <td>0.000000</td>\n",
       "      <td>0.006693</td>\n",
       "      <td>0.000000</td>\n",
       "    </tr>\n",
       "  </tbody>\n",
       "</table>\n",
       "<p>2 rows × 1459 columns</p>\n",
       "</div>"
      ],
      "text/plain": [
       "         percentage digits  percentage question mark  \\\n",
       "is spam                                                \n",
       "0                 0.420082                  0.544954   \n",
       "1                11.579405                  0.169521   \n",
       "\n",
       "         percentage exclamation mark  percentage caps      length  \\\n",
       "is spam                                                             \n",
       "0                           0.233188         5.952566   71.023627   \n",
       "1                           0.524716        11.061228  138.866131   \n",
       "\n",
       "         countofunderstanding   keyword   abiola      able     about  \\\n",
       "is spam                                                                \n",
       "0                    0.408912  0.060725  0.00228  0.005389  0.001036   \n",
       "1                    0.033467  0.935743  0.00000  0.000000  0.000000   \n",
       "\n",
       "           ...           yo      yoga       you     yours        yr       yrs  \\\n",
       "is spam    ...                                                                  \n",
       "0          ...     0.005389  0.001244  0.017409  0.000622  0.000622  0.001036   \n",
       "1          ...     0.001339  0.000000  0.010710  0.010710  0.014726  0.004016   \n",
       "\n",
       "              yun       yup       zed        ìï  \n",
       "is spam                                          \n",
       "0        0.001036  0.008497  0.000000  0.010777  \n",
       "1        0.000000  0.000000  0.006693  0.000000  \n",
       "\n",
       "[2 rows x 1459 columns]"
      ]
     },
     "execution_count": 159,
     "metadata": {},
     "output_type": "execute_result"
    }
   ],
   "source": [
    "df.groupby('is spam').mean()"
   ]
  },
  {
   "cell_type": "markdown",
   "metadata": {},
   "source": [
    "The table above shows mean values for all the features grouped by whether the text is spam or ham.  \n",
    "Clearly, the values are very different for the features we manually created. That means we have created good features."
   ]
  },
  {
   "cell_type": "markdown",
   "metadata": {},
   "source": [
    "# Training model and calculating accuracy"
   ]
  },
  {
   "cell_type": "markdown",
   "metadata": {},
   "source": [
    "### TASK 4"
   ]
  },
  {
   "cell_type": "markdown",
   "metadata": {},
   "source": [
    "Extract `X`, the feature vectors by removing the label (`is spam` column) and the text (`text` column) from the `df` DataFrame.  \n",
    "Similarly extract the target vectors, by assigning `Y` to the `is spam` column."
   ]
  },
  {
   "cell_type": "code",
   "execution_count": 160,
   "metadata": {},
   "outputs": [],
   "source": [
    "# YOUR CODE STARTS HERE\n",
    "X=df.drop(columns=['text','is spam'])\n",
    "y=df['is spam']\n",
    "# YOUR CODE ENDS HERE"
   ]
  },
  {
   "cell_type": "code",
   "execution_count": 161,
   "metadata": {},
   "outputs": [
    {
     "name": "stdout",
     "output_type": "stream",
     "text": [
      "X.shape: (5572, 1458)\n",
      "y.shape: (5572,)\n"
     ]
    }
   ],
   "source": [
    "print(\"X.shape:\", X.shape)\n",
    "print(\"y.shape:\", y.shape)"
   ]
  },
  {
   "cell_type": "markdown",
   "metadata": {},
   "source": [
    "Now we divide the dataset into 3 parts, `train`, `cv` and `test`. We train our model on the training set, tune the hyperparameters (regularisation factor, which algorithm to use) on the validation set and finally report the our results on the test set.\n",
    "\n",
    "In this case we keep 60% of the data in training set, 20% of the data in validation set, and 20% of the data in test set. "
   ]
  },
  {
   "cell_type": "markdown",
   "metadata": {},
   "source": [
    "### Splitting the dataset"
   ]
  },
  {
   "cell_type": "code",
   "execution_count": 162,
   "metadata": {},
   "outputs": [
    {
     "name": "stdout",
     "output_type": "stream",
     "text": [
      "Train dataset size:  3343\n",
      "CV size:  1114\n",
      "Test size:  1115\n"
     ]
    }
   ],
   "source": [
    "X_train, X_other, y_train, y_other = train_test_split(X, y, test_size=0.4, random_state=42)\n",
    "X_cv, X_test, y_cv, y_test = train_test_split(X_other, y_other, test_size=0.5, random_state=42)\n",
    "\n",
    "print(\"Train dataset size: \", X_train.shape[0])\n",
    "print(\"CV size: \", X_cv.shape[0])\n",
    "print(\"Test size: \", X_test.shape[0])"
   ]
  },
  {
   "cell_type": "markdown",
   "metadata": {},
   "source": [
    "Now we try out different models and fiddle around with the hyperparameters, seeing their accuracy on the validation set."
   ]
  },
  {
   "cell_type": "markdown",
   "metadata": {},
   "source": [
    "#### Logistic Regression"
   ]
  },
  {
   "cell_type": "markdown",
   "metadata": {},
   "source": [
    "Now will use the Logistic Regression class from the scikit-learn library to create a classifier object and train it on our data."
   ]
  },
  {
   "cell_type": "code",
   "execution_count": 163,
   "metadata": {},
   "outputs": [
    {
     "name": "stdout",
     "output_type": "stream",
     "text": [
      "Time Taken=  0.771 seconds\n"
     ]
    }
   ],
   "source": [
    "clf1 = LogisticRegression(C=2.6,solver='lbfgs')\n",
    "from time import time as t\n",
    "t0=t()\n",
    "clf1 = clf1.fit(X_train, y_train)\n",
    "print(\"Time Taken= \",round(t()-t0,3),\"seconds\")"
   ]
  },
  {
   "cell_type": "markdown",
   "metadata": {},
   "source": [
    "Fiddle around the paramaters while creating the classifier object, particularly with `C` - the regularisation strength, `class_weight` - a useful paramter when dealing with skewed class distribution like this. You can change the regularisation strength by observing how it is performing on the training set and the validation set."
   ]
  },
  {
   "cell_type": "markdown",
   "metadata": {},
   "source": [
    "We will be using f1-score to evaluate the model. F1-score is used when the class distribution is skewed (like in this example).   \n",
    "More about F1-Score [here](https://machinelearningmastery.com/classification-accuracy-is-not-enough-more-performance-measures-you-can-use/). Do read this before moving on."
   ]
  },
  {
   "cell_type": "code",
   "execution_count": 164,
   "metadata": {},
   "outputs": [
    {
     "name": "stdout",
     "output_type": "stream",
     "text": [
      "             precision    recall  f1-score   support\n",
      "\n",
      "        ham       0.99      1.00      0.99       955\n",
      "       spam       0.99      0.95      0.97       159\n",
      "\n",
      "avg / total       0.99      0.99      0.99      1114\n",
      "\n",
      "F1 score: 0.9679487179487181\n"
     ]
    }
   ],
   "source": [
    "print(classification_report(y_cv, clf1.predict(X_cv), target_names=['ham', 'spam']))\n",
    "print('F1 score:', f1_score(y_cv, clf1.predict(X_cv)))"
   ]
  },
  {
   "cell_type": "markdown",
   "metadata": {},
   "source": [
    "#### Naive Bayes"
   ]
  },
  {
   "cell_type": "markdown",
   "metadata": {},
   "source": [
    "Similarly fiddle around with the hyper parameters of this model. You can find the documentation on the scikit-learn website."
   ]
  },
  {
   "cell_type": "code",
   "execution_count": 165,
   "metadata": {},
   "outputs": [
    {
     "name": "stdout",
     "output_type": "stream",
     "text": [
      "Time Taken=  0.038 seconds\n"
     ]
    }
   ],
   "source": [
    "clf2 = MultinomialNB(alpha=0.00022)\n",
    "t0=t()\n",
    "clf2 = clf2.fit(X_train, y_train)\n",
    "print(\"Time Taken= \",round(t()-t0,3),\"seconds\")"
   ]
  },
  {
   "cell_type": "code",
   "execution_count": 166,
   "metadata": {},
   "outputs": [
    {
     "name": "stdout",
     "output_type": "stream",
     "text": [
      "             precision    recall  f1-score   support\n",
      "\n",
      "        ham       0.99      0.99      0.99       955\n",
      "       spam       0.92      0.91      0.91       159\n",
      "\n",
      "avg / total       0.98      0.98      0.98      1114\n",
      "\n",
      "F1 score: 0.9148264984227129\n"
     ]
    }
   ],
   "source": [
    "print(classification_report(y_cv, clf2.predict(X_cv), target_names=['ham', 'spam']))\n",
    "print('F1 score:', f1_score(y_cv, clf2.predict(X_cv)))"
   ]
  },
  {
   "cell_type": "markdown",
   "metadata": {},
   "source": [
    "### TASK 5"
   ]
  },
  {
   "cell_type": "markdown",
   "metadata": {},
   "source": [
    "Use [SVM Classifier](http://scikit-learn.org/stable/modules/generated/sklearn.svm.SVC.html) instead of Logistic Regression and Naive Bayes. \n",
    "Print out the classification report and F1 Score as done above."
   ]
  },
  {
   "cell_type": "code",
   "execution_count": 167,
   "metadata": {},
   "outputs": [
    {
     "name": "stdout",
     "output_type": "stream",
     "text": [
      "Time Taken=  4.708 seconds\n"
     ]
    }
   ],
   "source": [
    "# YOUR CODE STARTS HERE\n",
    "from sklearn.svm import SVC\n",
    "clf3 = SVC(kernel='linear',C=0.17)\n",
    "t0=t()\n",
    "clf3 = clf3.fit(X_train, y_train)\n",
    "print(\"Time Taken= \",round(t()-t0,3),\"seconds\")\n",
    "# YOUR CODE ENDS HERE"
   ]
  },
  {
   "cell_type": "code",
   "execution_count": 168,
   "metadata": {},
   "outputs": [
    {
     "name": "stdout",
     "output_type": "stream",
     "text": [
      "             precision    recall  f1-score   support\n",
      "\n",
      "        ham       0.99      1.00      0.99       955\n",
      "       spam       0.98      0.95      0.96       159\n",
      "\n",
      "avg / total       0.99      0.99      0.99      1114\n",
      "\n",
      "F1 score: 0.964856230031949\n"
     ]
    }
   ],
   "source": [
    "print(classification_report(y_cv, clf3.predict(X_cv), target_names=['ham', 'spam']))\n",
    "print('F1 score:', f1_score(y_cv, clf3.predict(X_cv)))"
   ]
  },
  {
   "cell_type": "markdown",
   "metadata": {},
   "source": [
    "### Bonus Task"
   ]
  },
  {
   "cell_type": "markdown",
   "metadata": {},
   "source": [
    "Try using one of the most basic ensembling method the [VotingClassifier](http://scikit-learn.org/stable/modules/generated/sklearn.ensemble.VotingClassifier.html).\n",
    "You can read more about ensembing [here](http://blog.kaggle.com/2016/12/27/a-kagglers-guide-to-model-stacking-in-practice/), and [here](https://mlwave.com/kaggle-ensembling-guide/)."
   ]
  },
  {
   "cell_type": "code",
   "execution_count": 169,
   "metadata": {},
   "outputs": [
    {
     "name": "stdout",
     "output_type": "stream",
     "text": [
      "Time Taken=  5.481 seconds\n",
      "             precision    recall  f1-score   support\n",
      "\n",
      "        ham       0.99      1.00      0.99       955\n",
      "       spam       0.99      0.95      0.97       159\n",
      "\n",
      "avg / total       0.99      0.99      0.99      1114\n",
      "\n",
      "F1 score: 0.9679487179487181\n"
     ]
    }
   ],
   "source": [
    "# YOUR CODE STARTS HERE\n",
    "from sklearn.ensemble import VotingClassifier as VC\n",
    "clf4 = VC(estimators=[('logistic', clf1), ('multinomial', clf2),('svm',clf3)])\n",
    "t0=t()\n",
    "clf4 = clf4.fit(X_train, y_train)\n",
    "print(\"Time Taken= \",round(t()-t0,3),\"seconds\")\n",
    "\n",
    "print(classification_report(y_cv, clf4.predict(X_cv), target_names=['ham', 'spam']))\n",
    "print(\"F1 score:\", f1_score(y_cv, clf4.predict(X_cv)))\n",
    "# YOUR CODE ENDS HERE"
   ]
  },
  {
   "cell_type": "markdown",
   "metadata": {},
   "source": [
    "### Training the final model"
   ]
  },
  {
   "cell_type": "code",
   "execution_count": 170,
   "metadata": {},
   "outputs": [],
   "source": [
    "y_actual = y_test\n",
    "y_predicted = clf4.predict(X_test)"
   ]
  },
  {
   "cell_type": "code",
   "execution_count": 171,
   "metadata": {},
   "outputs": [],
   "source": [
    "true_positives = X_test[(y_actual == 1) & (y_predicted == 1)]\n",
    "true_negatives = X_test[(y_actual == 0) & (y_predicted == 0)]\n",
    "false_positives = X_test[(y_actual == 0) & (y_predicted == 1)]\n",
    "false_negatives = X_test[(y_actual == 1) & (y_predicted == 0)]"
   ]
  },
  {
   "cell_type": "code",
   "execution_count": 175,
   "metadata": {},
   "outputs": [
    {
     "name": "stdout",
     "output_type": "stream",
     "text": [
      "Precision: 0.9635036496350365\n",
      "Recall: 0.9428571428571428\n",
      "F1 score: 0.9530685920577618\n"
     ]
    }
   ],
   "source": [
    "precision = true_positives.shape[0] / (true_positives.shape[0] + false_positives.shape[0])\n",
    "print(\"Precision:\", precision)\n",
    "recall = true_positives.shape[0] / (true_positives.shape[0] + false_negatives.shape[0])\n",
    "print(\"Recall:\", recall)\n",
    "f1_score = 2 * precision * recall / (precision + recall)\n",
    "print(\"F1 score:\", f1_score)"
   ]
  },
  {
   "cell_type": "markdown",
   "metadata": {},
   "source": [
    "The one with the highest F1 Score will get a special mention. To improve on the F1 Score, you can engineer new features, try out more algorithms and loggically fiddle with their parameters."
   ]
  },
  {
   "cell_type": "markdown",
   "metadata": {},
   "source": [
    "Congratulations! You have successfully made a spam classifier which is correct most of the time. Isn't it amazing how your computer has learnt to distinguish between spam and non-spam messages? "
   ]
  },
  {
   "cell_type": "markdown",
   "metadata": {},
   "source": [
    "#### Observing examples where the algorithm failed, or was successful."
   ]
  },
  {
   "cell_type": "code",
   "execution_count": 176,
   "metadata": {},
   "outputs": [
    {
     "data": {
      "text/html": [
       "<div>\n",
       "<style scoped>\n",
       "    .dataframe tbody tr th:only-of-type {\n",
       "        vertical-align: middle;\n",
       "    }\n",
       "\n",
       "    .dataframe tbody tr th {\n",
       "        vertical-align: top;\n",
       "    }\n",
       "\n",
       "    .dataframe thead th {\n",
       "        text-align: right;\n",
       "    }\n",
       "</style>\n",
       "<table border=\"1\" class=\"dataframe\">\n",
       "  <thead>\n",
       "    <tr style=\"text-align: right;\">\n",
       "      <th></th>\n",
       "      <th>text</th>\n",
       "      <th>text</th>\n",
       "    </tr>\n",
       "  </thead>\n",
       "  <tbody>\n",
       "    <tr>\n",
       "      <th>334</th>\n",
       "      <td>Any chance you might have had with me evaporat...</td>\n",
       "      <td>0</td>\n",
       "    </tr>\n",
       "    <tr>\n",
       "      <th>991</th>\n",
       "      <td>26th OF JULY</td>\n",
       "      <td>0</td>\n",
       "    </tr>\n",
       "    <tr>\n",
       "      <th>1863</th>\n",
       "      <td>The last thing i ever wanted to do was hurt yo...</td>\n",
       "      <td>0</td>\n",
       "    </tr>\n",
       "    <tr>\n",
       "      <th>4398</th>\n",
       "      <td>Can you tell Shola to please go to college of ...</td>\n",
       "      <td>0</td>\n",
       "    </tr>\n",
       "    <tr>\n",
       "      <th>4728</th>\n",
       "      <td>I (Career Tel) have added u as a contact on IN...</td>\n",
       "      <td>0</td>\n",
       "    </tr>\n",
       "  </tbody>\n",
       "</table>\n",
       "</div>"
      ],
      "text/plain": [
       "                                                   text  text\n",
       "334   Any chance you might have had with me evaporat...     0\n",
       "991                                        26th OF JULY     0\n",
       "1863  The last thing i ever wanted to do was hurt yo...     0\n",
       "4398  Can you tell Shola to please go to college of ...     0\n",
       "4728  I (Career Tel) have added u as a contact on IN...     0"
      ]
     },
     "execution_count": 176,
     "metadata": {},
     "output_type": "execute_result"
    }
   ],
   "source": [
    "df.loc[list(false_positives.index)]['text']"
   ]
  },
  {
   "cell_type": "code",
   "execution_count": 177,
   "metadata": {},
   "outputs": [
    {
     "data": {
      "text/html": [
       "<div>\n",
       "<style scoped>\n",
       "    .dataframe tbody tr th:only-of-type {\n",
       "        vertical-align: middle;\n",
       "    }\n",
       "\n",
       "    .dataframe tbody tr th {\n",
       "        vertical-align: top;\n",
       "    }\n",
       "\n",
       "    .dataframe thead th {\n",
       "        text-align: right;\n",
       "    }\n",
       "</style>\n",
       "<table border=\"1\" class=\"dataframe\">\n",
       "  <thead>\n",
       "    <tr style=\"text-align: right;\">\n",
       "      <th></th>\n",
       "      <th>text</th>\n",
       "      <th>text</th>\n",
       "    </tr>\n",
       "  </thead>\n",
       "  <tbody>\n",
       "    <tr>\n",
       "      <th>1500</th>\n",
       "      <td>SMS. ac JSco: Energy is high, but u may not kn...</td>\n",
       "      <td>0</td>\n",
       "    </tr>\n",
       "    <tr>\n",
       "      <th>3990</th>\n",
       "      <td>(Bank of Granite issues Strong-Buy) EXPLOSIVE ...</td>\n",
       "      <td>0</td>\n",
       "    </tr>\n",
       "    <tr>\n",
       "      <th>4372</th>\n",
       "      <td>Ur balance is now å£600. Next question: Comple...</td>\n",
       "      <td>1</td>\n",
       "    </tr>\n",
       "    <tr>\n",
       "      <th>69</th>\n",
       "      <td>Did you hear about the new \\Divorce Barbie\\\"? ...</td>\n",
       "      <td>0</td>\n",
       "    </tr>\n",
       "    <tr>\n",
       "      <th>2313</th>\n",
       "      <td>tddnewsletter@emc1.co.uk (More games from TheD...</td>\n",
       "      <td>0</td>\n",
       "    </tr>\n",
       "    <tr>\n",
       "      <th>869</th>\n",
       "      <td>Hello. We need some posh birds and chaps to us...</td>\n",
       "      <td>0</td>\n",
       "    </tr>\n",
       "    <tr>\n",
       "      <th>752</th>\n",
       "      <td>You have an important customer service announc...</td>\n",
       "      <td>0</td>\n",
       "    </tr>\n",
       "    <tr>\n",
       "      <th>2663</th>\n",
       "      <td>Hello darling how are you today? I would love ...</td>\n",
       "      <td>0</td>\n",
       "    </tr>\n",
       "  </tbody>\n",
       "</table>\n",
       "</div>"
      ],
      "text/plain": [
       "                                                   text  text\n",
       "1500  SMS. ac JSco: Energy is high, but u may not kn...     0\n",
       "3990  (Bank of Granite issues Strong-Buy) EXPLOSIVE ...     0\n",
       "4372  Ur balance is now å£600. Next question: Comple...     1\n",
       "69    Did you hear about the new \\Divorce Barbie\\\"? ...     0\n",
       "2313  tddnewsletter@emc1.co.uk (More games from TheD...     0\n",
       "869   Hello. We need some posh birds and chaps to us...     0\n",
       "752   You have an important customer service announc...     0\n",
       "2663  Hello darling how are you today? I would love ...     0"
      ]
     },
     "execution_count": 177,
     "metadata": {},
     "output_type": "execute_result"
    }
   ],
   "source": [
    "df.loc[list(false_negatives.index)]['text']"
   ]
  },
  {
   "cell_type": "code",
   "execution_count": null,
   "metadata": {},
   "outputs": [],
   "source": []
  }
 ],
 "metadata": {
  "kernelspec": {
   "display_name": "Python 3",
   "language": "python",
   "name": "python3"
  },
  "language_info": {
   "codemirror_mode": {
    "name": "ipython",
    "version": 3
   },
   "file_extension": ".py",
   "mimetype": "text/x-python",
   "name": "python",
   "nbconvert_exporter": "python",
   "pygments_lexer": "ipython3",
   "version": "3.6.4"
  }
 },
 "nbformat": 4,
 "nbformat_minor": 2
}
